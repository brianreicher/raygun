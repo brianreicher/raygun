{
 "cells": [
  {
   "cell_type": "markdown",
   "source": [
    "## Imports"
   ],
   "metadata": {}
  },
  {
   "cell_type": "code",
   "execution_count": 1,
   "source": [
    "# !conda activate n2v\n",
    "%load_ext autoreload\n",
    "\n",
    "import numpy as np\n",
    "# from matplotlib import pyplot as plt\n",
    "import sys\n",
    "import random\n",
    "import zarr\n",
    "from PIL import Image\n",
    "from skimage import data\n",
    "from skimage import filters\n",
    "from skimage import metrics\n",
    "\n",
    "import gunpowder as gp\n",
    "\n",
    "# from this repo\n",
    "# from segway.tasks.make_zarr_from_tiff import task_make_zarr_from_tiff_volume as tif2zarr\n",
    "from boilerPlate import GaussBlur"
   ],
   "outputs": [
    {
     "output_type": "stream",
     "name": "stderr",
     "text": [
      "2021-08-11 19:49:43.178530: I tensorflow/stream_executor/platform/default/dso_loader.cc:53] Successfully opened dynamic library libcudart.so.11.0\n"
     ]
    }
   ],
   "metadata": {}
  },
  {
   "cell_type": "code",
   "execution_count": 2,
   "source": [
    "# ADD HELPER FUNCTIONS\n",
    "\n",
    "def noise_pipe(src, target, pipeline, noise_order, noise_dict):\n",
    "    this_array = src\n",
    "    for noise in noise_order:\n",
    "        if noise_dict[noise]:\n",
    "            if noise =='downX' and noise_dict[noise]:\n",
    "                pipeline += gp.DownSample(src, (1, noise_dict[noise], noise_dict[noise]), target) # assumes zyx coordinates (and non-isometric)\n",
    "                this_array = target\n",
    "            elif noise =='gaussBlur' and noise_dict[noise]:\n",
    "                pipeline += GaussBlur(this_array, noise_dict[noise])\n",
    "            elif noise =='gaussNoise' and noise_dict[noise]:\n",
    "                pipeline += gp.NoiseAugment(this_array, mode='gaussian', var=noise_dict[noise])\n",
    "            elif noise =='poissNoise' and noise_dict[noise]:\n",
    "                pipeline += gp.NoiseAugment(this_array, mode='poisson')\n",
    "            # elif noise =='deform' and noise_dict[noise]: # TODO: IMPLEMENT\n",
    "            #     pipeline += ...\n",
    "\n",
    "    return pipeline"
   ],
   "outputs": [],
   "metadata": {}
  },
  {
   "cell_type": "markdown",
   "source": [
    "# Specify Parameters (source, noise type, downsampling, etc.)"
   ],
   "metadata": {}
  },
  {
   "cell_type": "code",
   "execution_count": 3,
   "source": [
    "noise_version = '' # for making multiple independently generated noise versions (e.g. for Fourier Shell analysis)\n",
    "src_path = '/n/groups/htem/ESRF_id16a/tomo_ML/synapse/cb2/' # PATH FOR ZARR\n",
    "\n",
    "raw_name = 'raw'\n",
    "noise_dict = {'downX': 8, # cudegy mimic of 30nm pixel size (max uttained) from sensor at ESRF.i16a X-ray source, assuming 4nm voxel size EM source images\n",
    "         'gaussBlur': 30, # cudegy mimic of 30nm resolution of KB mirrors at ESRF.i16a X-ray source\n",
    "         'gaussNoise': None, # ASSUMES MEAN = 0, THIS SETS VARIANCE\n",
    "         'poissNoise': True, # cudegy mimic of sensor shot noise (hot pixels) at ESRF.i16a X-ray source\n",
    "        #  'deform': , # TODO: IMPLEMENT\n",
    "         }\n",
    "\n",
    "# noise_order = ['gaussBlur', \n",
    "#                'downX', \n",
    "#                'gaussNoise', \n",
    "#                'poissNoise'\n",
    "#                ]\n",
    "\n",
    "noise_order = ['downX', \n",
    "               'gaussBlur', \n",
    "               'gaussNoise', \n",
    "               'poissNoise'\n",
    "               ]\n",
    "\n",
    "samples = [\n",
    "    'ml0',\n",
    "    'ml1',\n",
    "    'cutout1',\n",
    "    'cutout2',\n",
    "    'cutout5',\n",
    "    'cutout6',\n",
    "    'cutout7',\n",
    "    ]\n",
    "\n",
    "src_voxel_size = (40, 4, 4)"
   ],
   "outputs": [],
   "metadata": {}
  },
  {
   "cell_type": "code",
   "execution_count": 4,
   "source": [
    "##### BELOW IS AUTOMATIC PARAMETER SETUP BASED ON ABOVE SPECIFICATIONS ######\n",
    "\n",
    "noise_name = ''\n",
    "for noise in noise_order:\n",
    "    if noise_dict[noise]:\n",
    "        if str(noise_dict[noise]).isnumeric():\n",
    "            noise_name += noise + str(noise_dict[noise]) + '_'\n",
    "        elif isinstance(noise_dict[noise], bool):\n",
    "            noise_name += noise + '_'\n",
    "\n",
    "if noise_version == '':\n",
    "    noise_name = noise_name[:-1]\n",
    "else:\n",
    "    noise_name += noise_version\n",
    "\n",
    "print('Layer name for noised data: ' + noise_name)\n",
    "\n",
    "if noise_dict['downX']:\n",
    "    dest_voxel_size = [src_voxel_size[s] * noise_dict['downX'] if s > 0 else src_voxel_size[s] for s in range(len(src_voxel_size))]\n",
    "else:\n",
    "    dest_voxel_size = src_voxel_size\n",
    "src_voxel_size = gp.Coordinate(src_voxel_size)\n",
    "dest_voxel_size = gp.Coordinate(dest_voxel_size)\n"
   ],
   "outputs": [
    {
     "output_type": "stream",
     "name": "stdout",
     "text": [
      "Layer name for noised data: downX8_gaussBlur30_poissNoise\n"
     ]
    }
   ],
   "metadata": {}
  },
  {
   "cell_type": "markdown",
   "source": [
    "# Setup Noising Pipeline"
   ],
   "metadata": {}
  },
  {
   "cell_type": "code",
   "execution_count": 65,
   "source": [
    "%autoreload\n",
    "from boilerPlate import GaussBlur"
   ],
   "outputs": [],
   "metadata": {}
  },
  {
   "cell_type": "code",
   "execution_count": 5,
   "source": [
    "# declare arrays to use in the pipeline\n",
    "raw = gp.ArrayKey('RAW') # raw data\n",
    "noisy = gp.ArrayKey('NOISY') # data noise added\n",
    "raw_spec = gp.ArraySpec(voxel_size=src_voxel_size, interpolatable=True)\n",
    "\n",
    "stack = gp.Stack(1)\n",
    "\n",
    "# request matching the model input and output sizes\n",
    "scan_request = gp.BatchRequest()\n",
    "scan_request.add(raw, (40, 256, 256))#, src_voxel_size)\n",
    "scan_request.add(noisy, (40, 256, 256))#, dest_voxel_size)\n",
    "# scan_request[noisy].dtype = np.float64\n",
    "\n",
    "scan = gp.Scan(scan_request)\n",
    "\n",
    "# request an empty batch from scan\n",
    "request = gp.BatchRequest()\n",
    "\n",
    "# assemble pipeline for each volume and run\n",
    "for sample in samples:    \n",
    "    # $src_path$volume/$volume.zarr/volumes/$layer\n",
    "    src = f'{src_path}{sample}/{sample}.zarr/volumes'\n",
    "    source = gp.ZarrSource(    # add the data source\n",
    "            src,  # the zarr container\n",
    "            {raw: raw_name},  # which dataset to associate to the array key\n",
    "            {raw: raw_spec}  # meta-information\n",
    "    )\n",
    "\n",
    "    destination = gp.ZarrWrite(\n",
    "            dataset_names = {noisy: noise_name},\n",
    "            output_dir = f'{src_path}{sample}',\n",
    "            output_filename = f'{sample}.zarr',\n",
    "            dataset_dtypes = {noisy: np.uint8} # save as 0-255 values (should match raw)\n",
    "    )\n",
    "\n",
    "    pipeline = (noise_pipe(raw, noisy, source, noise_order, noise_dict) + \n",
    "                # stack + \n",
    "                destination + \n",
    "                scan)\n",
    "    with gp.build(pipeline):\n",
    "        pipeline.request_batch(request)"
   ],
   "outputs": [
    {
     "output_type": "stream",
     "name": "stderr",
     "text": [
      "410it [00:20, 20.61it/s]"
     ]
    }
   ],
   "metadata": {}
  },
  {
   "cell_type": "code",
   "execution_count": 32,
   "source": [
    "down = gp.DownSample(raw, (1,8,8), noisy)\n",
    "down.prepare(scan_request)\n",
    "down.spec"
   ],
   "outputs": [],
   "metadata": {}
  },
  {
   "cell_type": "code",
   "execution_count": null,
   "source": [],
   "outputs": [],
   "metadata": {}
  }
 ],
 "metadata": {
  "orig_nbformat": 4,
  "language_info": {
   "name": "python",
   "version": "3.7.10",
   "mimetype": "text/x-python",
   "codemirror_mode": {
    "name": "ipython",
    "version": 3
   },
   "pygments_lexer": "ipython3",
   "nbconvert_exporter": "python",
   "file_extension": ".py"
  },
  "kernelspec": {
   "name": "python3",
   "display_name": "Python 3.7.10 64-bit ('n2v': conda)"
  },
  "interpreter": {
   "hash": "f9cb357f91f63a353a1c2ecd5237cebe3ac17167e08747c30b5061e5be51817e"
  }
 },
 "nbformat": 4,
 "nbformat_minor": 2
}
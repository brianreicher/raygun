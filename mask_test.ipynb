{
 "cells": [
  {
   "cell_type": "code",
   "execution_count": 8,
   "metadata": {},
   "outputs": [],
   "source": [
    "from daisy import *\n",
    "import matplotlib.pyplot as plt\n",
    "import numpy as np"
   ]
  },
  {
   "cell_type": "code",
   "execution_count": 15,
   "metadata": {},
   "outputs": [],
   "source": [
    "file_path = '/n/groups/htem/ESRF_id16a/tomo_ML/ResolutionEnhancement/jlr54_tests/volumes/'\n",
    "file_name = 'CBxs_lobV_bottomp100um_30nm_rec_db9_.n5'\n",
    "in_name = 'volumes/raw'\n",
    "mask_name = 'volumes/volume_mask'"
   ]
  },
  {
   "cell_type": "code",
   "execution_count": 21,
   "metadata": {},
   "outputs": [
    {
     "data": {
      "text/plain": [
       "(3216, 3216, 2048)"
      ]
     },
     "execution_count": 21,
     "metadata": {},
     "output_type": "execute_result"
    }
   ],
   "source": [
    "data = open_ds(file_path+file_name, in_name)\n",
    "mask = open_ds(file_path+file_name, mask_name)\n",
    "data.shape"
   ]
  },
  {
   "cell_type": "code",
   "execution_count": 19,
   "metadata": {},
   "outputs": [
    {
     "data": {
      "text/plain": [
       "[0:96480, 0:96480, 30720:30721] (96480, 96480, 1)"
      ]
     },
     "execution_count": 19,
     "metadata": {},
     "output_type": "execute_result"
    }
   ],
   "source": [
    "center_z = data.data_roi.get_center()[2]\n",
    "slice_size = list(data.data_roi.get_shape())\n",
    "slice_size[2] = 1\n",
    "slice_roi = Roi((0, 0, center_z), slice_size)\n",
    "slice_roi"
   ]
  },
  {
   "cell_type": "code",
   "execution_count": null,
   "metadata": {},
   "outputs": [],
   "source": [
    "plt.imshow(data[slice_roi])"
   ]
  },
  {
   "cell_type": "code",
   "execution_count": null,
   "metadata": {},
   "outputs": [],
   "source": [
    "plt.imshow(mask[slice_roi])"
   ]
  }
 ],
 "metadata": {
  "interpreter": {
   "hash": "fe42cad5db80fc1e7bcc83f73c10b9eff7d57f3a49251f270b06b70db6791065"
  },
  "kernelspec": {
   "display_name": "Python 3.7.10 64-bit ('n2v': conda)",
   "language": "python",
   "name": "python3"
  },
  "language_info": {
   "codemirror_mode": {
    "name": "ipython",
    "version": 3
   },
   "file_extension": ".py",
   "mimetype": "text/x-python",
   "name": "python",
   "nbconvert_exporter": "python",
   "pygments_lexer": "ipython3",
   "version": "3.7.10"
  },
  "orig_nbformat": 4
 },
 "nbformat": 4,
 "nbformat_minor": 2
}
